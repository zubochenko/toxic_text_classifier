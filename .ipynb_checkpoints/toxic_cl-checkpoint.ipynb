{
 "cells": [
  {
   "cell_type": "code",
   "execution_count": 1,
   "metadata": {},
   "outputs": [],
   "source": [
    "import numpy as np\n",
    "import pandas as pd\n",
    "import seaborn as sns\n",
    "import matplotlib\n",
    "import re\n",
    "from matplotlib import pyplot as plt\n",
    "from nltk.corpus import stopwords \n",
    "from nltk.tokenize import word_tokenize\n",
    "from nltk.stem import WordNetLemmatizer\n",
    "from sklearn.model_selection import GridSearchCV\n",
    "from sklearn.multiclass import OneVsRestClassifier\n"
   ]
  },
  {
   "cell_type": "code",
   "execution_count": 2,
   "metadata": {},
   "outputs": [],
   "source": [
    "train = pd.read_csv('train.csv')\n",
    "test = pd.read_csv('test.csv')"
   ]
  },
  {
   "cell_type": "code",
   "execution_count": 3,
   "metadata": {},
   "outputs": [
    {
     "name": "stdout",
     "output_type": "stream",
     "text": [
      "(157571, 2)\n",
      "(2000, 1)\n"
     ]
    }
   ],
   "source": [
    "print(train.shape)\n",
    "print(test.shape)"
   ]
  },
  {
   "cell_type": "code",
   "execution_count": 4,
   "metadata": {},
   "outputs": [
    {
     "data": {
      "text/html": [
       "<div>\n",
       "<style scoped>\n",
       "    .dataframe tbody tr th:only-of-type {\n",
       "        vertical-align: middle;\n",
       "    }\n",
       "\n",
       "    .dataframe tbody tr th {\n",
       "        vertical-align: top;\n",
       "    }\n",
       "\n",
       "    .dataframe thead th {\n",
       "        text-align: right;\n",
       "    }\n",
       "</style>\n",
       "<table border=\"1\" class=\"dataframe\">\n",
       "  <thead>\n",
       "    <tr style=\"text-align: right;\">\n",
       "      <th></th>\n",
       "      <th>comment_text</th>\n",
       "      <th>toxic</th>\n",
       "    </tr>\n",
       "  </thead>\n",
       "  <tbody>\n",
       "    <tr>\n",
       "      <td>0</td>\n",
       "      <td>Barcelona football seasons (early 20th century...</td>\n",
       "      <td>0</td>\n",
       "    </tr>\n",
       "    <tr>\n",
       "      <td>1</td>\n",
       "      <td>\"\\n\\n answering questions \\n\\nI won't have a c...</td>\n",
       "      <td>0</td>\n",
       "    </tr>\n",
       "    <tr>\n",
       "      <td>2</td>\n",
       "      <td>\"\\n\\nIssues\\nOnefortyone, the reason why I rem...</td>\n",
       "      <td>0</td>\n",
       "    </tr>\n",
       "    <tr>\n",
       "      <td>3</td>\n",
       "      <td>\"\\nIn that case would \"\"new age\"\" at least be ...</td>\n",
       "      <td>0</td>\n",
       "    </tr>\n",
       "    <tr>\n",
       "      <td>4</td>\n",
       "      <td>Mr. Wolf,\\nWe need to have a serious talk abou...</td>\n",
       "      <td>0</td>\n",
       "    </tr>\n",
       "  </tbody>\n",
       "</table>\n",
       "</div>"
      ],
      "text/plain": [
       "                                        comment_text  toxic\n",
       "0  Barcelona football seasons (early 20th century...      0\n",
       "1  \"\\n\\n answering questions \\n\\nI won't have a c...      0\n",
       "2  \"\\n\\nIssues\\nOnefortyone, the reason why I rem...      0\n",
       "3  \"\\nIn that case would \"\"new age\"\" at least be ...      0\n",
       "4  Mr. Wolf,\\nWe need to have a serious talk abou...      0"
      ]
     },
     "execution_count": 4,
     "metadata": {},
     "output_type": "execute_result"
    }
   ],
   "source": [
    "train.head()"
   ]
  },
  {
   "cell_type": "code",
   "execution_count": 5,
   "metadata": {},
   "outputs": [
    {
     "data": {
      "text/plain": [
       "comment_text    0\n",
       "toxic           0\n",
       "dtype: int64"
      ]
     },
     "execution_count": 5,
     "metadata": {},
     "output_type": "execute_result"
    }
   ],
   "source": [
    "train.isna().sum()"
   ]
  },
  {
   "cell_type": "code",
   "execution_count": 6,
   "metadata": {},
   "outputs": [
    {
     "data": {
      "image/png": "[encoded data removed]",
      "text/plain": [
       "<Figure size 432x432 with 1 Axes>"
      ]
     },
     "metadata": {
      "needs_background": "light"
     },
     "output_type": "display_data"
    }
   ],
   "source": [
    "train.hist(figsize=(6, 6), bins=3)\n",
    "plt.show()"
   ]
  },
  {
   "cell_type": "code",
   "execution_count": 7,
   "metadata": {},
   "outputs": [
    {
     "data": {
      "text/html": [
       "<div>\n",
       "<style scoped>\n",
       "    .dataframe tbody tr th:only-of-type {\n",
       "        vertical-align: middle;\n",
       "    }\n",
       "\n",
       "    .dataframe tbody tr th {\n",
       "        vertical-align: top;\n",
       "    }\n",
       "\n",
       "    .dataframe thead th {\n",
       "        text-align: right;\n",
       "    }\n",
       "</style>\n",
       "<table border=\"1\" class=\"dataframe\">\n",
       "  <thead>\n",
       "    <tr style=\"text-align: right;\">\n",
       "      <th></th>\n",
       "      <th>comment_text</th>\n",
       "      <th>toxic</th>\n",
       "    </tr>\n",
       "  </thead>\n",
       "  <tbody>\n",
       "    <tr>\n",
       "      <td>8347</td>\n",
       "      <td>Hey Rama!! \\n\\nHey Rama, Raima, or whatever your name is, keep your nose out of my business and tend to your own affairs. If I want to post a message on users David-A or Gaashooru's talk pages, that my business, stay out of it!!!!</td>\n",
       "      <td>1</td>\n",
       "    </tr>\n",
       "    <tr>\n",
       "      <td>8351</td>\n",
       "      <td>Hey James ? I DID provide those exact same URL's in the first place politely. Your asslicking self-important buddy editor turned it into a pissing contest, not me. If either he or you could actually read, this would never have got to this point. \\n\\n But since you are illiterate,  I have a suggestion for you - turn your worthless fucking loser block into thirty years. \\n\\n And jam your useless fucking loser wikipedia up your ass, while you're at it, fool.\\n\\n Bye</td>\n",
       "      <td>1</td>\n",
       "    </tr>\n",
       "    <tr>\n",
       "      <td>8360</td>\n",
       "      <td>Wehwalt, what the fuck is this? Your own personal little fiefdom? What you're doing here is astonishingly wrong and you know it. I get that you don't like Shapiro, but you know perfectly well that alleged reprints by militant Internet activists from unknown and defunct print sources are worthless. Oh hey, and it looks like I already crossed paths with you here months ago, but you didn't give up. This is garbage and you know it.</td>\n",
       "      <td>1</td>\n",
       "    </tr>\n",
       "    <tr>\n",
       "      <td>8363</td>\n",
       "      <td>.\\n\\nfuck you. learn how to type a url correctly you jerkoff</td>\n",
       "      <td>1</td>\n",
       "    </tr>\n",
       "    <tr>\n",
       "      <td>8368</td>\n",
       "      <td>Dare send messages like this. You are the cause of Vandalism not me,...&amp;*%$4@###banged up head</td>\n",
       "      <td>1</td>\n",
       "    </tr>\n",
       "    <tr>\n",
       "      <td>...</td>\n",
       "      <td>...</td>\n",
       "      <td>...</td>\n",
       "    </tr>\n",
       "    <tr>\n",
       "      <td>157494</td>\n",
       "      <td>\"\\n\\n our previous conversation \\n\\nyou fucking shit eating liberal, you make lady bird johnson shake on her tampon. I said fucking sorry for my little brother and you still had to fucking complain. My life is fucking shit. My mother is always yelling at me and my dad beats the shit out of me if I get fucking out of line. My brother's one outlet is wikipedia. He cried when he saw my father smacking me, and his tears clogged his mac book pro's keyboard. we had to go to fucking apple and get a new one, all out of my mom's pocket. then last night i wanted to take this hot pussy from connecticut out in my dad's new rolls-royce and he said fucking no. so you know what I fucking did? I fucking cut his pinky off and didnt snitch like a little bitch like you. I take lazy ass niggers like you and stomp you with my fat nazi heel. you should be FUCKING sorry you ever fucked with me or my dad (Steve Jobs). And if I find out your using Linux, I'll take pity on thee. Cause you're just too stupi...</td>\n",
       "      <td>1</td>\n",
       "    </tr>\n",
       "    <tr>\n",
       "      <td>157514</td>\n",
       "      <td>YOU ARE A MISCHIEVIOUS PUBIC HAIR</td>\n",
       "      <td>1</td>\n",
       "    </tr>\n",
       "    <tr>\n",
       "      <td>157541</td>\n",
       "      <td>Your absurd edits \\n\\nYour absurd edits on great white shark was total vandalism and was very sexual. All you edit here is fucking bullshit like spam all over this useful encyclopedia so stop all your bullshit. The admins have you everywhere. The only choice for you is to stop this bullshit or else you'll be blocked permanently. User:Factual80man</td>\n",
       "      <td>1</td>\n",
       "    </tr>\n",
       "    <tr>\n",
       "      <td>157546</td>\n",
       "      <td>\"\\n\\nHey listen don't you ever!!!! Delete my edits ever again I'm annoyed because the WWE 2K15 a few of the roster have been confirmed and your stupid ass deletes what I write. just stop!!!! Please STOP!!!! You don't work 2k or WWE games so stop deleting other peoples shit if I get it wrong or others get it wrong let them they will get the hang of it eventually but don't stick your most ass in their and I'm gonna delete the \"\"please do not insert the roster\"\" shit how do you not have it if has been confirmed!!!!! God your stupid.\"</td>\n",
       "      <td>1</td>\n",
       "    </tr>\n",
       "    <tr>\n",
       "      <td>157554</td>\n",
       "      <td>and i'm going to keep posting the stuff u deleted until this fucking site closes down have fun u stupid ass bitch don't ever delete anything fuckin hore like i said before go to hell</td>\n",
       "      <td>1</td>\n",
       "    </tr>\n",
       "  </tbody>\n",
       "</table>\n",
       "<p>14294 rows × 2 columns</p>\n",
       "</div>"
      ],
      "text/plain": [
       "                                                                                                                                                                                                                                                                                                                                                                                                                                                                                                                                                                                                                                                                                                                                                                                                                                                                                                                                                                                                                                  comment_text  \\\n",
       "8347                                                                                                                                                                                                                                                                                                                                                                                                                                                                                                                                                                                                                                                                                                                                                                                                    Hey Rama!! \\n\\nHey Rama, Raima, or whatever your name is, keep your nose out of my business and tend to your own affairs. If I want to post a message on users David-A or Gaashooru's talk pages, that my business, stay out of it!!!!   \n",
       "8351                                                                                                                                                                                                                                                                                                                                                                                                                                                                                                                                                       Hey James ? I DID provide those exact same URL's in the first place politely. Your asslicking self-important buddy editor turned it into a pissing contest, not me. If either he or you could actually read, this would never have got to this point. \\n\\n But since you are illiterate,  I have a suggestion for you - turn your worthless fucking loser block into thirty years. \\n\\n And jam your useless fucking loser wikipedia up your ass, while you're at it, fool.\\n\\n Bye   \n",
       "8360                                                                                                                                                                                                                                                                                                                                                                                                                                                                                                                                                                                           Wehwalt, what the fuck is this? Your own personal little fiefdom? What you're doing here is astonishingly wrong and you know it. I get that you don't like Shapiro, but you know perfectly well that alleged reprints by militant Internet activists from unknown and defunct print sources are worthless. Oh hey, and it looks like I already crossed paths with you here months ago, but you didn't give up. This is garbage and you know it.   \n",
       "8363                                                                                                                                                                                                                                                                                                                                                                                                                                                                                                                                                                                                                                                                                                                                                                                                                                                                                                                                                                              .\\n\\nfuck you. learn how to type a url correctly you jerkoff   \n",
       "8368                                                                                                                                                                                                                                                                                                                                                                                                                                                                                                                                                                                                                                                                                                                                                                                                                                                                                                                                            Dare send messages like this. You are the cause of Vandalism not me,...&*%$4@###banged up head   \n",
       "...                                                                                                                                                                                                                                                                                                                                                                                                                                                                                                                                                                                                                                                                                                                                                                                                                                                                                                                                                                                                                                        ...   \n",
       "157494  \"\\n\\n our previous conversation \\n\\nyou fucking shit eating liberal, you make lady bird johnson shake on her tampon. I said fucking sorry for my little brother and you still had to fucking complain. My life is fucking shit. My mother is always yelling at me and my dad beats the shit out of me if I get fucking out of line. My brother's one outlet is wikipedia. He cried when he saw my father smacking me, and his tears clogged his mac book pro's keyboard. we had to go to fucking apple and get a new one, all out of my mom's pocket. then last night i wanted to take this hot pussy from connecticut out in my dad's new rolls-royce and he said fucking no. so you know what I fucking did? I fucking cut his pinky off and didnt snitch like a little bitch like you. I take lazy ass niggers like you and stomp you with my fat nazi heel. you should be FUCKING sorry you ever fucked with me or my dad (Steve Jobs). And if I find out your using Linux, I'll take pity on thee. Cause you're just too stupi...   \n",
       "157514                                                                                                                                                                                                                                                                                                                                                                                                                                                                                                                                                                                                                                                                                                                                                                                                                                                                                                                                                                                                       YOU ARE A MISCHIEVIOUS PUBIC HAIR   \n",
       "157541                                                                                                                                                                                                                                                                                                                                                                                                                                                                                                                                                                                                                                                                            Your absurd edits \\n\\nYour absurd edits on great white shark was total vandalism and was very sexual. All you edit here is fucking bullshit like spam all over this useful encyclopedia so stop all your bullshit. The admins have you everywhere. The only choice for you is to stop this bullshit or else you'll be blocked permanently. User:Factual80man   \n",
       "157546                                                                                                                                                                                                                                                                                                                                                                                                                                                                                \"\\n\\nHey listen don't you ever!!!! Delete my edits ever again I'm annoyed because the WWE 2K15 a few of the roster have been confirmed and your stupid ass deletes what I write. just stop!!!! Please STOP!!!! You don't work 2k or WWE games so stop deleting other peoples shit if I get it wrong or others get it wrong let them they will get the hang of it eventually but don't stick your most ass in their and I'm gonna delete the \"\"please do not insert the roster\"\" shit how do you not have it if has been confirmed!!!!! God your stupid.\"   \n",
       "157554                                                                                                                                                                                                                                                                                                                                                                                                                                                                                                                                                                                                                                                                                                                                                                                                                                                  and i'm going to keep posting the stuff u deleted until this fucking site closes down have fun u stupid ass bitch don't ever delete anything fuckin hore like i said before go to hell   \n",
       "\n",
       "        toxic  \n",
       "8347        1  \n",
       "8351        1  \n",
       "8360        1  \n",
       "8363        1  \n",
       "8368        1  \n",
       "...       ...  \n",
       "157494      1  \n",
       "157514      1  \n",
       "157541      1  \n",
       "157546      1  \n",
       "157554      1  \n",
       "\n",
       "[14294 rows x 2 columns]"
      ]
     },
     "execution_count": 7,
     "metadata": {},
     "output_type": "execute_result"
    }
   ],
   "source": [
    "pd.set_option(\"display.max_colwidth\", 999)\n",
    "train[(train[\"toxic\"]==1)]"
   ]
  },
  {
   "cell_type": "code",
   "execution_count": 8,
   "metadata": {},
   "outputs": [
    {
     "data": {
      "text/html": [
       "<div>\n",
       "<style scoped>\n",
       "    .dataframe tbody tr th:only-of-type {\n",
       "        vertical-align: middle;\n",
       "    }\n",
       "\n",
       "    .dataframe tbody tr th {\n",
       "        vertical-align: top;\n",
       "    }\n",
       "\n",
       "    .dataframe thead th {\n",
       "        text-align: right;\n",
       "    }\n",
       "</style>\n",
       "<table border=\"1\" class=\"dataframe\">\n",
       "  <thead>\n",
       "    <tr style=\"text-align: right;\">\n",
       "      <th></th>\n",
       "      <th>comment_text</th>\n",
       "      <th>toxic</th>\n",
       "    </tr>\n",
       "  </thead>\n",
       "  <tbody>\n",
       "    <tr>\n",
       "      <td>0</td>\n",
       "      <td>Barcelona football seasons (early 20th century) \\n\\nI looked at the Barcelona football seasons for which you added  (and some other seasons after). They could do with , really. (I don't think it's worth listing at WP:PNT, but this should put them in view of  one way or another, or if not that could be added to their talk pages). I don't want to do it myself (a) because I am lazy and (b) because I know nothing about football and would probably make translation mistakes.</td>\n",
       "      <td>0</td>\n",
       "    </tr>\n",
       "    <tr>\n",
       "      <td>1</td>\n",
       "      <td>\"\\n\\n answering questions \\n\\nI won't have a chance to say hello or goodbye when I'm blocked/banned/whatever. So, \"\"Hello; I'm not holding my breath on anyone addressing your questions concerning Dawn Well's page on Wiki; and I better get in a good-bye, as I feel I have the lifespan of a May fly in a low ceilinged room full of bullfrogs; not because I’m wrong, but because anyone on your side of the issue is going to be attacked and baited into some infraction, an infraction ignored by someone they like, but an infraction that will be worthy of execution when committed by me.”\"</td>\n",
       "      <td>0</td>\n",
       "    </tr>\n",
       "    <tr>\n",
       "      <td>2</td>\n",
       "      <td>\"\\n\\nIssues\\nOnefortyone, the reason why I removed your edits, because they have following problems:-\\n\\nIt is Graceland that is 2nd most visited place in the USA., , ,  Not Biltmore Estate.\\n\"\"The décor throughout the house has often been criticized\"\" is incorrect, it has not been criticized by anyone. Then you put up the quotes of Albert Goldman, a fringe theorist on Elvis Presley, and added them under Graceland#Basement, which is irrelevant.\\nThose \"\"conflicting reports\"\" about his death have no relevance on this article, especially when they are disputed or rejected enough times.\\n This is why this kind of content misleads and should be removed. I don't see any consensus for adding it on archives or previous discussion either.   \"</td>\n",
       "      <td>0</td>\n",
       "    </tr>\n",
       "    <tr>\n",
       "      <td>3</td>\n",
       "      <td>\"\\nIn that case would \"\"new age\"\" at least be acceptable? _friend \"</td>\n",
       "      <td>0</td>\n",
       "    </tr>\n",
       "    <tr>\n",
       "      <td>4</td>\n",
       "      <td>Mr. Wolf,\\nWe need to have a serious talk about Asthma.  Have you done any reading about ASTHMA?  The Beta Adrenergic Theory is the ONLY Theory of Asthma that can be associated with one name {not including crackpots} so your question about other names insults my intelligence!!!!!!!!!!!!!!!!!!!!  Not only that but in contrast to other theories this one has been cited more than any other article in the history of the Journal of Allergy according to the GARFIELED LIBRARY at The University of Pennsylvania. \\nLast but not least, my comment would be out of place in the history section because it relates DIRECTLY to the BA2 polymorphism.  Since other polymorphisms CANNOT be related to a specific theory, much less to a specific individual, your comment doesn't make any sense.</td>\n",
       "      <td>0</td>\n",
       "    </tr>\n",
       "    <tr>\n",
       "      <td>...</td>\n",
       "      <td>...</td>\n",
       "      <td>...</td>\n",
       "    </tr>\n",
       "    <tr>\n",
       "      <td>157566</td>\n",
       "      <td>\":::::And for the second time of asking, when your view completely contradicts the coverage in reliable sources, why should anyone care what you feel? You can't even give a consistent argument - is the opening only supposed to mention significant aspects, or the \"\"most significant\"\" ones?   \\n\\n\"</td>\n",
       "      <td>0</td>\n",
       "    </tr>\n",
       "    <tr>\n",
       "      <td>157567</td>\n",
       "      <td>You should be ashamed of yourself \\n\\nThat is a horrible thing you put on my talk page.  128.61.19.93</td>\n",
       "      <td>0</td>\n",
       "    </tr>\n",
       "    <tr>\n",
       "      <td>157568</td>\n",
       "      <td>Spitzer \\n\\nUmm, theres no actual article for prostitution ring.  - Crunch Captain.</td>\n",
       "      <td>0</td>\n",
       "    </tr>\n",
       "    <tr>\n",
       "      <td>157569</td>\n",
       "      <td>And it looks like it was actually you who put on the speedy to have the first version deleted now that I look at it.</td>\n",
       "      <td>0</td>\n",
       "    </tr>\n",
       "    <tr>\n",
       "      <td>157570</td>\n",
       "      <td>\"\\nAnd ... I really don't think you understand.  I came here and my idea was bad right away.  What kind of community goes \"\"you have bad ideas\"\" go away, instead of helping rewrite them.   \"</td>\n",
       "      <td>0</td>\n",
       "    </tr>\n",
       "  </tbody>\n",
       "</table>\n",
       "<p>143277 rows × 2 columns</p>\n",
       "</div>"
      ],
      "text/plain": [
       "                                                                                                                                                                                                                                                                                                                                                                                                                                                                                                                                                                                                                                                                                                                                                                                                      comment_text  \\\n",
       "0                                                                                                                                                                                                                                                                                                                        Barcelona football seasons (early 20th century) \\n\\nI looked at the Barcelona football seasons for which you added  (and some other seasons after). They could do with , really. (I don't think it's worth listing at WP:PNT, but this should put them in view of  one way or another, or if not that could be added to their talk pages). I don't want to do it myself (a) because I am lazy and (b) because I know nothing about football and would probably make translation mistakes.   \n",
       "1                                                                                                                                                                                                          \"\\n\\n answering questions \\n\\nI won't have a chance to say hello or goodbye when I'm blocked/banned/whatever. So, \"\"Hello; I'm not holding my breath on anyone addressing your questions concerning Dawn Well's page on Wiki; and I better get in a good-bye, as I feel I have the lifespan of a May fly in a low ceilinged room full of bullfrogs; not because I’m wrong, but because anyone on your side of the issue is going to be attacked and baited into some infraction, an infraction ignored by someone they like, but an infraction that will be worthy of execution when committed by me.”\"   \n",
       "2                                         \"\\n\\nIssues\\nOnefortyone, the reason why I removed your edits, because they have following problems:-\\n\\nIt is Graceland that is 2nd most visited place in the USA., , ,  Not Biltmore Estate.\\n\"\"The décor throughout the house has often been criticized\"\" is incorrect, it has not been criticized by anyone. Then you put up the quotes of Albert Goldman, a fringe theorist on Elvis Presley, and added them under Graceland#Basement, which is irrelevant.\\nThose \"\"conflicting reports\"\" about his death have no relevance on this article, especially when they are disputed or rejected enough times.\\n This is why this kind of content misleads and should be removed. I don't see any consensus for adding it on archives or previous discussion either.   \"   \n",
       "3                                                                                                                                                                                                                                                                                                                                                                                                                                                                                                                                                                                                                                                                                                                                              \"\\nIn that case would \"\"new age\"\" at least be acceptable? _friend \"   \n",
       "4       Mr. Wolf,\\nWe need to have a serious talk about Asthma.  Have you done any reading about ASTHMA?  The Beta Adrenergic Theory is the ONLY Theory of Asthma that can be associated with one name {not including crackpots} so your question about other names insults my intelligence!!!!!!!!!!!!!!!!!!!!  Not only that but in contrast to other theories this one has been cited more than any other article in the history of the Journal of Allergy according to the GARFIELED LIBRARY at The University of Pennsylvania. \\nLast but not least, my comment would be out of place in the history section because it relates DIRECTLY to the BA2 polymorphism.  Since other polymorphisms CANNOT be related to a specific theory, much less to a specific individual, your comment doesn't make any sense.   \n",
       "...                                                                                                                                                                                                                                                                                                                                                                                                                                                                                                                                                                                                                                                                                                                                                                                                            ...   \n",
       "157566                                                                                                                                                                                                                                                                                                                                                                                                                                                                                                   \":::::And for the second time of asking, when your view completely contradicts the coverage in reliable sources, why should anyone care what you feel? You can't even give a consistent argument - is the opening only supposed to mention significant aspects, or the \"\"most significant\"\" ones?   \\n\\n\"   \n",
       "157567                                                                                                                                                                                                                                                                                                                                                                                                                                                                                                                                                                                                                                                                                                       You should be ashamed of yourself \\n\\nThat is a horrible thing you put on my talk page.  128.61.19.93   \n",
       "157568                                                                                                                                                                                                                                                                                                                                                                                                                                                                                                                                                                                                                                                                                                                         Spitzer \\n\\nUmm, theres no actual article for prostitution ring.  - Crunch Captain.   \n",
       "157569                                                                                                                                                                                                                                                                                                                                                                                                                                                                                                                                                                                                                                                                                        And it looks like it was actually you who put on the speedy to have the first version deleted now that I look at it.   \n",
       "157570                                                                                                                                                                                                                                                                                                                                                                                                                                                                                                                                                                                                              \"\\nAnd ... I really don't think you understand.  I came here and my idea was bad right away.  What kind of community goes \"\"you have bad ideas\"\" go away, instead of helping rewrite them.   \"   \n",
       "\n",
       "        toxic  \n",
       "0           0  \n",
       "1           0  \n",
       "2           0  \n",
       "3           0  \n",
       "4           0  \n",
       "...       ...  \n",
       "157566      0  \n",
       "157567      0  \n",
       "157568      0  \n",
       "157569      0  \n",
       "157570      0  \n",
       "\n",
       "[143277 rows x 2 columns]"
      ]
     },
     "execution_count": 8,
     "metadata": {},
     "output_type": "execute_result"
    }
   ],
   "source": [
    "train[(train[\"toxic\"]==0)]"
   ]
  },
  {
   "cell_type": "code",
   "execution_count": 9,
   "metadata": {},
   "outputs": [],
   "source": [
    "y = train['toxic']"
   ]
  },
  {
   "cell_type": "code",
   "execution_count": 10,
   "metadata": {},
   "outputs": [
    {
     "name": "stdout",
     "output_type": "stream",
     "text": [
      "Mean number of letter non-toxic comments:  404.4461986222492\n",
      "Mean number of letter toxic comments:  293.0163005456835\n"
     ]
    }
   ],
   "source": [
    "features_trn = pd.DataFrame()\n",
    "features_tst = pd.DataFrame()\n",
    "\n",
    "features_trn['length_of_text'] = train['comment_text'].apply(len)\n",
    "features_tst['length_of_text'] = test['comment_text'].apply(len)\n",
    "\n",
    "\n",
    "print (\"Mean number of letter non-toxic comments: \", (features_trn[train['toxic']==0]['length_of_text']).mean()) \n",
    "print (\"Mean number of letter toxic comments: \", (features_trn[train['toxic']==1]['length_of_text']).mean())\n"
   ]
  },
  {
   "cell_type": "code",
   "execution_count": 11,
   "metadata": {},
   "outputs": [
    {
     "data": {
      "image/png": "[encoded data removed]",
      "text/plain": [
       "<Figure size 432x288 with 1 Axes>"
      ]
     },
     "metadata": {
      "needs_background": "light"
     },
     "output_type": "display_data"
    }
   ],
   "source": [
    "plt.hist(np.log(features_trn[train['toxic']==0]['length_of_text']), bins=80, label='clean')\n",
    "plt.hist(np.log(features_trn[train['toxic']==1]['length_of_text']), bins=80, label='toxic')\n",
    "plt.legend()\n",
    "plt.show()"
   ]
  },
  {
   "cell_type": "code",
   "execution_count": 12,
   "metadata": {},
   "outputs": [
    {
     "data": {
      "text/plain": [
       "'!\"#$%&\\'()*+,-./:;<=>?@[\\\\]^_`{|}~'"
      ]
     },
     "execution_count": 12,
     "metadata": {},
     "output_type": "execute_result"
    }
   ],
   "source": [
    "import string\n",
    "string.punctuation"
   ]
  },
  {
   "cell_type": "code",
   "execution_count": 13,
   "metadata": {},
   "outputs": [],
   "source": [
    "punctuation_trn = [len(re.findall('[!\"#$%&\\'()*+,-./:;<=>?@[\\\\]^_`{|}~]', comment)) for comment in train['comment_text']]\n",
    "features_trn['punctuation'] = punctuation_trn\n",
    "\n",
    "punctuation_tst = [len(re.findall('[!\"#$%&\\'()*+,-./:;<=>?@[\\\\]^_`{|}~]', comment)) for comment in test['comment_text']]\n",
    "features_tst['punctuation'] = punctuation_tst"
   ]
  },
  {
   "cell_type": "code",
   "execution_count": 14,
   "metadata": {},
   "outputs": [
    {
     "name": "stdout",
     "output_type": "stream",
     "text": [
      "Mean number of punctuation in non-toxic comments:  16.03823363135744\n",
      "Mean number of punctuation in toxic comments:  14.367566811249475\n"
     ]
    }
   ],
   "source": [
    "print (\"Mean number of punctuation in non-toxic comments: \", (features_trn[train['toxic']==0]['punctuation']).mean()) \n",
    "print (\"Mean number of punctuation in toxic comments: \", (features_trn[train['toxic']==1]['punctuation']).mean())"
   ]
  },
  {
   "cell_type": "code",
   "execution_count": 15,
   "metadata": {},
   "outputs": [],
   "source": [
    "caps_lock_trn = [len(re.findall('[A-Z]', comment)) for comment in train['comment_text']]\n",
    "caps_lock_tst = [len(re.findall('[A-Z]', comment)) for comment in test['comment_text']]\n",
    "features_trn['caps_lock'] = caps_lock_trn\n",
    "features_tst['caps_lock'] = caps_lock_tst"
   ]
  },
  {
   "cell_type": "markdown",
   "metadata": {},
   "source": [
    "Не забыть написать почему логарифмировал и что за всплеск в конце\n"
   ]
  },
  {
   "cell_type": "code",
   "execution_count": 16,
   "metadata": {},
   "outputs": [],
   "source": [
    "stop = stopwords.words('english')\n",
    "wnl = WordNetLemmatizer()\n",
    "def low_case(word_array):\n",
    "    word_array = word_array.str.lower()\n",
    "    return word_array\n",
    "def stopwords(word_array):\n",
    "    word_array = word_array.apply(lambda x: \" \".join(x for x in str(x).split() if x not in stop))\n",
    "    return word_array\n",
    "def punctuation(word_array):\n",
    "    word_array = word_array.str.replace('[^\\w\\s]' ,'')\n",
    "    word_array = word_array.str.replace('\\n','')\n",
    "    word_array = word_array.str.replace('  ' ,' ')\n",
    "    return word_array\n",
    "def numbers(word_array):\n",
    "    word_array = word_array.apply(lambda x : re.sub(r'\\d+', '', x))\n",
    "    return word_array\n",
    "def tokenize(word_array):\n",
    "    word_array = word_array.apply(word_tokenize)\n",
    "    return word_array\n",
    "def lemm_words(word_array):\n",
    "    word_array = word_array.apply(lambda x: \" \".join([wnl.lemmatize(word) for word in x.split()]))\n",
    "    return word_array"
   ]
  },
  {
   "cell_type": "code",
   "execution_count": 17,
   "metadata": {},
   "outputs": [],
   "source": [
    "def clean_pipeline(word_array):\n",
    "    word_array = low_case(word_array)\n",
    "    word_array = stopwords(word_array)\n",
    "    word_array = punctuation(word_array)\n",
    "    word_array = lemm_words(word_array)\n",
    "    word_array = numbers(word_array)\n",
    "    word_array = tokenize(word_array)\n",
    "    return word_array"
   ]
  },
  {
   "cell_type": "code",
   "execution_count": 18,
   "metadata": {},
   "outputs": [],
   "source": [
    "train = clean_pipeline(train['comment_text'])\n",
    "test = clean_pipeline(test['comment_text'])"
   ]
  },
  {
   "cell_type": "code",
   "execution_count": 19,
   "metadata": {},
   "outputs": [],
   "source": [
    "from urllib import request\n",
    "url_google = 'https://raw.githubusercontent.com/RobertJGabriel/Google-profanity-words/master/list.txt'\n",
    "txt_google = request.urlopen(url_google).readlines()\n",
    "url_areebbeigh = 'https://raw.githubusercontent.com/areebbeigh/profanityfilter/master/profanityfilter/data/badwords.txt'\n",
    "txt_areebbeigh = request.urlopen(url_areebbeigh).readlines()"
   ]
  },
  {
   "cell_type": "code",
   "execution_count": 20,
   "metadata": {},
   "outputs": [],
   "source": [
    "google_profanity = [line.decode(\"utf-8\").replace('\\n','') for line in txt_google]\n",
    "areebbeigh_profanity = [line.decode(\"utf-8\").replace('\\n','').lower() for line in txt_areebbeigh]\n",
    "profanities = list(set(google_profanity + areebbeigh_profanity))"
   ]
  },
  {
   "cell_type": "code",
   "execution_count": 21,
   "metadata": {},
   "outputs": [],
   "source": [
    "profanity_train = []\n",
    "profanity_test = []\n",
    "for comment in train:\n",
    "    profanity_train.append(len([x for x in comment if x in profanities]))\n",
    "for comment in test:\n",
    "    profanity_test.append(len([x for x in comment if x in profanities]))"
   ]
  },
  {
   "cell_type": "code",
   "execution_count": 22,
   "metadata": {},
   "outputs": [],
   "source": [
    "features_trn['profanity_count'] = profanity_train\n",
    "features_tst['profanity_count'] = profanity_test"
   ]
  },
  {
   "cell_type": "code",
   "execution_count": 23,
   "metadata": {},
   "outputs": [],
   "source": [
    "from sklearn.feature_extraction.text import TfidfVectorizer"
   ]
  },
  {
   "cell_type": "code",
   "execution_count": 24,
   "metadata": {},
   "outputs": [
    {
     "name": "stderr",
     "output_type": "stream",
     "text": [
      "/anaconda3/lib/python3.6/site-packages/sklearn/feature_extraction/text.py:300: UserWarning: Your stop_words may be inconsistent with your preprocessing. Tokenizing the stop words generated tokens ['b', 'c', 'd', 'e', 'f', 'g', 'h', 'k', 'l', 'm', 'n', 'o', 'p', 'r', 's', 't', 'u', 'v', 'w', 'x', 'y'] not in stop_words.\n",
      "  'stop_words.' % sorted(inconsistent))\n"
     ]
    }
   ],
   "source": [
    "def identity_tokenizer(text):\n",
    "    return text\n",
    "\n",
    "tfidf = TfidfVectorizer(tokenizer=identity_tokenizer, stop_words='english', lowercase=False)    \n",
    "X = tfidf.fit_transform(train)"
   ]
  },
  {
   "cell_type": "code",
   "execution_count": 25,
   "metadata": {},
   "outputs": [],
   "source": [
    "test = tfidf.transform(test)"
   ]
  },
  {
   "cell_type": "code",
   "execution_count": 26,
   "metadata": {},
   "outputs": [],
   "source": [
    "from scipy.sparse import hstack\n",
    "X = hstack((X, features_trn))\n",
    "test = hstack((test, features_tst))"
   ]
  },
  {
   "cell_type": "code",
   "execution_count": 27,
   "metadata": {},
   "outputs": [
    {
     "data": {
      "text/plain": [
       "'from sklearn.model_selection import train_test_split\\nX_train, X_test, y_train, y_test = train_test_split(X, y, test_size=0.33, random_state=42)'"
      ]
     },
     "execution_count": 27,
     "metadata": {},
     "output_type": "execute_result"
    }
   ],
   "source": [
    "'''from sklearn.model_selection import train_test_split\n",
    "X_train, X_test, y_train, y_test = train_test_split(X, y, test_size=0.33, random_state=42)'''"
   ]
  },
  {
   "cell_type": "code",
   "execution_count": 28,
   "metadata": {},
   "outputs": [
    {
     "data": {
      "text/plain": [
       "'from sklearn.metrics import accuracy_score\\nfrom sklearn.svm import SVC\\nclf = SVC()\\nclf.fit(X_train, y_train) '"
      ]
     },
     "execution_count": 28,
     "metadata": {},
     "output_type": "execute_result"
    }
   ],
   "source": [
    "'''from sklearn.metrics import accuracy_score\n",
    "from sklearn.svm import SVC\n",
    "clf = SVC()\n",
    "clf.fit(X_train, y_train) '''"
   ]
  },
  {
   "cell_type": "code",
   "execution_count": 29,
   "metadata": {},
   "outputs": [
    {
     "data": {
      "text/plain": [
       "'accuracy_score(clf.predict(X_test), y_test)'"
      ]
     },
     "execution_count": 29,
     "metadata": {},
     "output_type": "execute_result"
    }
   ],
   "source": [
    "'''accuracy_score(clf.predict(X_test), y_test)'''"
   ]
  },
  {
   "cell_type": "markdown",
   "metadata": {},
   "source": [
    "SVMs work fine on sparse and unbalanced data. Class-weighted SVM is designed to deal with unbalanced data by assigning higher misclassification penalties to training instances of the minority class."
   ]
  },
  {
   "cell_type": "markdown",
   "metadata": {},
   "source": [
    "0.9113059866535895\n"
   ]
  },
  {
   "cell_type": "code",
   "execution_count": 30,
   "metadata": {},
   "outputs": [
    {
     "name": "stdout",
     "output_type": "stream",
     "text": [
      "KFold(n_splits=5, random_state=None, shuffle=True)\n"
     ]
    }
   ],
   "source": [
    "from sklearn.model_selection import TimeSeriesSplit,KFold\n",
    "n_fold = 5\n",
    "folds = KFold(n_splits=n_fold,shuffle=True)\n",
    "\n",
    "print(folds)\n"
   ]
  },
  {
   "cell_type": "code",
   "execution_count": 31,
   "metadata": {},
   "outputs": [
    {
     "name": "stderr",
     "output_type": "stream",
     "text": [
      "/anaconda3/lib/python3.6/site-packages/lightgbm/__init__.py:46: UserWarning: Starting from version 2.2.1, the library file in distribution wheels for macOS is built by the Apple Clang (Xcode_8.3.3) compiler.\n",
      "This means that in case of installing LightGBM from PyPI via the ``pip install lightgbm`` command, you don't need to install the gcc compiler anymore.\n",
      "Instead of that, you need to install the OpenMP library, which is required for running LightGBM on the system with the Apple Clang compiler.\n",
      "You can install the OpenMP library by the following command: ``brew install libomp``.\n",
      "  \"You can install the OpenMP library by the following command: ``brew install libomp``.\", UserWarning)\n",
      "/anaconda3/lib/python3.6/site-packages/lightgbm/basic.py:478: UserWarning: Converting data to scipy sparse matrix.\n",
      "  warnings.warn('Converting data to scipy sparse matrix.')\n"
     ]
    },
    {
     "name": "stdout",
     "output_type": "stream",
     "text": [
      "accuracy: 0.9594992211388681\n",
      "accuracy: 0.9595761456951095\n",
      "accuracy: 0.960595396065309\n",
      "accuracy: 0.9591338294967211\n",
      "accuracy: 0.9597107636685321\n"
     ]
    }
   ],
   "source": [
    "from sklearn.model_selection import train_test_split\n",
    "import lightgbm as lgb\n",
    "from sklearn.metrics import accuracy_score\n",
    "\n",
    "\n",
    "feature_importances = []\n",
    "for fold_n, (train_index, valid_index) in enumerate(folds.split(X)):\n",
    "    lgbclf = lgb.LGBMClassifier(\n",
    "        num_leaves= 512,\n",
    "        n_estimators=512,\n",
    "        max_depth=-1,\n",
    "        learning_rate=0.065,\n",
    "        subsample=0.85,\n",
    "        colsample_bytree=0.85,\n",
    "        boosting_type= \"gbdt\",\n",
    "        reg_alpha=0.3,\n",
    "        reg_lamdba=0.243\n",
    ")\n",
    "    X_train_, X_valid, y_train_, y_valid = train_test_split(X, y, test_size=0.33, random_state=fold_n)\n",
    "    lgbclf.fit(X_train_,y_train_)\n",
    "    pred=lgbclf.predict(test)\n",
    "\n",
    "\n",
    "    print('accuracy: {}'.format(accuracy_score(lgbclf.predict(X_valid), y_valid)))\n",
    "\n",
    "    del lgbclf, X_valid\n",
    "    del y_valid\n",
    "\n"
   ]
  },
  {
   "cell_type": "markdown",
   "metadata": {},
   "source": [
    "accuracy: 0.9594992211388681\n",
    "accuracy: 0.9595761456951095\n",
    "accuracy: 0.960595396065309\n",
    "accuracy: 0.9591338294967211\n",
    "accuracy: 0.9597107636685321"
   ]
  },
  {
   "cell_type": "code",
   "execution_count": 36,
   "metadata": {},
   "outputs": [
    {
     "data": {
      "text/html": [
       "<div>\n",
       "<style scoped>\n",
       "    .dataframe tbody tr th:only-of-type {\n",
       "        vertical-align: middle;\n",
       "    }\n",
       "\n",
       "    .dataframe tbody tr th {\n",
       "        vertical-align: top;\n",
       "    }\n",
       "\n",
       "    .dataframe thead th {\n",
       "        text-align: right;\n",
       "    }\n",
       "</style>\n",
       "<table border=\"1\" class=\"dataframe\">\n",
       "  <thead>\n",
       "    <tr style=\"text-align: right;\">\n",
       "      <th></th>\n",
       "      <th>comment_text</th>\n",
       "      <th>toxic</th>\n",
       "    </tr>\n",
       "  </thead>\n",
       "  <tbody>\n",
       "    <tr>\n",
       "      <td>0</td>\n",
       "      <td>You can't fucking block me for 3 months for fucking personal attacks or harassment! You fucking stupid hellhole, you better motherfucking let me vandalize Wikipedia again FRICKEN NOW!</td>\n",
       "      <td>1</td>\n",
       "    </tr>\n",
       "    <tr>\n",
       "      <td>1</td>\n",
       "      <td>I insulted people on en.wiki with criteria to provoke my filter set. You are simply abusing the power people handed over.</td>\n",
       "      <td>0</td>\n",
       "    </tr>\n",
       "    <tr>\n",
       "      <td>2</td>\n",
       "      <td>My side of the story\\n\\nAttention, douchebags and douchetees. I have been labled as a Terrorist on this site. BULL TO THE SHIT! I simply have a vast amount of knowlege on a wide range of topics. Scjessey, for example did not mention he is a fucking douchebag on his article. So I had to ammend this. I was simply trying to spread the truth. ALLLALLALALALALALAlAlALAALALAALALALALALAl. Sorry. I have to do that every 5 minutes or I go to hell. ALLALALALALALALALALALALALALALALLALALALALALLLALALALA ALLAH 4EVER!</td>\n",
       "      <td>1</td>\n",
       "    </tr>\n",
       "    <tr>\n",
       "      <td>3</td>\n",
       "      <td>Looks good to me. I think a nice pic of Midtown from across the East River would be the best possible addition to the montage, but there isn't one currently available on wiki commons.</td>\n",
       "      <td>0</td>\n",
       "    </tr>\n",
       "    <tr>\n",
       "      <td>4</td>\n",
       "      <td>RE: \\n\\nPunk ass snitch, get the cock.</td>\n",
       "      <td>1</td>\n",
       "    </tr>\n",
       "  </tbody>\n",
       "</table>\n",
       "</div>"
      ],
      "text/plain": [
       "                                                                                                                                                                                                                                                                                                                                                                                                                                                                                                                 comment_text  \\\n",
       "0                                                                                                                                                                                                                                                                                                                                     You can't fucking block me for 3 months for fucking personal attacks or harassment! You fucking stupid hellhole, you better motherfucking let me vandalize Wikipedia again FRICKEN NOW!   \n",
       "1                                                                                                                                                                                                                                                                                                                                                                                                   I insulted people on en.wiki with criteria to provoke my filter set. You are simply abusing the power people handed over.   \n",
       "2  My side of the story\\n\\nAttention, douchebags and douchetees. I have been labled as a Terrorist on this site. BULL TO THE SHIT! I simply have a vast amount of knowlege on a wide range of topics. Scjessey, for example did not mention he is a fucking douchebag on his article. So I had to ammend this. I was simply trying to spread the truth. ALLLALLALALALALALAlAlALAALALAALALALALALAl. Sorry. I have to do that every 5 minutes or I go to hell. ALLALALALALALALALALALALALALALALLALALALALALLLALALALA ALLAH 4EVER!   \n",
       "3                                                                                                                                                                                                                                                                                                                                     Looks good to me. I think a nice pic of Midtown from across the East River would be the best possible addition to the montage, but there isn't one currently available on wiki commons.   \n",
       "4                                                                                                                                                                                                                                                                                                                                                                                                                                                                                      RE: \\n\\nPunk ass snitch, get the cock.   \n",
       "\n",
       "   toxic  \n",
       "0      1  \n",
       "1      0  \n",
       "2      1  \n",
       "3      0  \n",
       "4      1  "
      ]
     },
     "execution_count": 36,
     "metadata": {},
     "output_type": "execute_result"
    }
   ],
   "source": [
    "lgb_submission= pd.read_csv('test.csv')\n",
    "lgb_submission['toxic'] = 0\n",
    "lgb_submission['toxic'] = lgb_submission['toxic']+pred\n",
    "lgb_submission.to_csv('prediction.csv')\n",
    "lgb_submission.head()"
   ]
  },
  {
   "cell_type": "code",
   "execution_count": null,
   "metadata": {},
   "outputs": [],
   "source": []
  }
 ],
 "metadata": {
  "kernelspec": {
   "display_name": "Python 3",
   "language": "python",
   "name": "python3"
  },
  "language_info": {
   "codemirror_mode": {
    "name": "ipython",
    "version": 3
   },
   "file_extension": ".py",
   "mimetype": "text/x-python",
   "name": "python",
   "nbconvert_exporter": "python",
   "pygments_lexer": "ipython3",
   "version": "3.6.9"
  }
 },
 "nbformat": 4,
 "nbformat_minor": 2
}
